{
 "cells": [
  {
   "cell_type": "code",
   "execution_count": 1,
   "metadata": {},
   "outputs": [
    {
     "name": "stderr",
     "output_type": "stream",
     "text": [
      "C:\\Users\\Matthias.Daiber\\AppData\\Local\\Continuum\\anaconda3\\lib\\site-packages\\h5py\\__init__.py:36: FutureWarning: Conversion of the second argument of issubdtype from `float` to `np.floating` is deprecated. In future, it will be treated as `np.float64 == np.dtype(float).type`.\n",
      "  from ._conv import register_converters as _register_converters\n"
     ]
    }
   ],
   "source": [
    "import tensorflow as tf\n",
    "from tensorflow.examples.tutorials.mnist import input_data\n",
    "\n",
    "import random\n",
    "import matplotlib.pyplot as plt"
   ]
  },
  {
   "cell_type": "code",
   "execution_count": 2,
   "metadata": {},
   "outputs": [
    {
     "name": "stdout",
     "output_type": "stream",
     "text": [
      "Extracting MNIST_data/train-images-idx3-ubyte.gz\n",
      "Extracting MNIST_data/train-labels-idx1-ubyte.gz\n",
      "Extracting MNIST_data/t10k-images-idx3-ubyte.gz\n",
      "Extracting MNIST_data/t10k-labels-idx1-ubyte.gz\n",
      "num train images:  (55000, 784)\n",
      "num test images:  (10000, 784)\n",
      "shape of train labels:  (55000, 10)\n"
     ]
    }
   ],
   "source": [
    "# load dataset and split declare train and test data\n",
    "mnist = input_data.read_data_sets(\"MNIST_data/\", one_hot=True)\n",
    "\n",
    "train = mnist.train.images \n",
    "test = mnist.test.images \n",
    "\n",
    "train_labels = mnist.train.labels\n",
    "test_labels = mnist.test.labels\n",
    "\n",
    "print(\"num train images: \", train.shape)\n",
    "print(\"num test images: \", test.shape)\n",
    "\n",
    "print(\"shape of train labels: \", train_labels.shape)"
   ]
  },
  {
   "cell_type": "code",
   "execution_count": 3,
   "metadata": {},
   "outputs": [],
   "source": [
    "# adjustable (hyper-)parameters\n",
    "batch_size = 100\n",
    "learning_rate = 0.0001 \n",
    "learning_step = 30000\n",
    "display_step= 300\n",
    "\n",
    "# size of dataset\n",
    "N = train.shape[0]\n",
    "dim = train.shape[1]\n",
    "dim_out = 10"
   ]
  },
  {
   "cell_type": "code",
   "execution_count": 4,
   "metadata": {},
   "outputs": [],
   "source": [
    "# method to get a batch of data\n",
    "def next_batch(images, labels): \n",
    "    rand_indicies = random.sample(range(0, images.shape[0]), batch_size)\n",
    "    \n",
    "    return images[rand_indicies], labels[rand_indicies]\n"
   ]
  },
  {
   "cell_type": "code",
   "execution_count": 5,
   "metadata": {},
   "outputs": [],
   "source": [
    "# placeholder / variables\n",
    "X = tf.placeholder(tf.float32, [None, dim]) \n",
    "y = tf.placeholder(tf.float32, [None, dim_out])"
   ]
  },
  {
   "cell_type": "code",
   "execution_count": null,
   "metadata": {},
   "outputs": [],
   "source": [
    "# explicit network\n",
    "\n",
    "W = tf.Variable(tf.zeros([dim, dim_out]))\n",
    "b = tf.Variable(tf.zeros([dim_out]))\n",
    "\n",
    "layer1 = tf.nn.softmax(tf.matmul(X, W) + b)"
   ]
  },
  {
   "cell_type": "code",
   "execution_count": 6,
   "metadata": {},
   "outputs": [],
   "source": [
    "# dense network\n",
    "#     -> inputs, units, initializer, activation\n",
    "#     -> https://www.tensorflow.org/api_docs/python/tf/layers/dense\n",
    "\n",
    "def network(x): \n",
    "    layer1 = tf.layers.dense(inputs=x, units=dim_out, activation=tf.nn.relu)\n",
    "    # do1 = tf.nn.dropout(x=layer1, keep_prob=0.2) \n",
    "    #layer2 = tf.layers.dense(inputs=layer1, units=dim_out, activation=tf.nn.softmax)\n",
    "    \n",
    "    return layer1"
   ]
  },
  {
   "cell_type": "code",
   "execution_count": 7,
   "metadata": {},
   "outputs": [],
   "source": [
    "pred = network(X)\n",
    "#pred = tf.layers.dense(inputs=X, units=dim_out, activation=tf.nn.softmax)\n",
    "\n",
    "#cross_entropy = tf.reduce_mean(-tf.reduce_sum(y * tf.log(pred), reduction_indices=[1]))\n",
    "cross_entropy = tf.losses.softmax_cross_entropy(y, pred)\n",
    "\n",
    "correct_prediction = tf.equal(tf.argmax(pred, 1), tf.argmax(y, 1))\n",
    "\n",
    "accuracy = tf.reduce_mean(tf.cast(correct_prediction, tf.float32))\n",
    "\n",
    "optimizer = tf.train.AdamOptimizer(learning_rate).minimize(cross_entropy)"
   ]
  },
  {
   "cell_type": "code",
   "execution_count": null,
   "metadata": {},
   "outputs": [
    {
     "name": "stdout",
     "output_type": "stream",
     "text": [
      "0 0.089\n",
      "300 0.708\n",
      "600 0.82\n",
      "900 0.8434\n",
      "1200 0.8595\n",
      "1500 0.8708\n",
      "1800 0.8774\n",
      "2100 0.883\n",
      "2400 0.8866\n",
      "2700 0.8911\n",
      "3000 0.8938\n",
      "3300 0.895\n",
      "3600 0.8979\n",
      "3900 0.9013\n",
      "4200 0.9023\n",
      "4500 0.9029\n",
      "4800 0.9059\n",
      "5100 0.9067\n",
      "5400 0.9082\n",
      "5700 0.909\n",
      "6000 0.9099\n",
      "6300 0.9104\n",
      "6600 0.9118\n",
      "6900 0.9124\n",
      "7200 0.9123\n",
      "7500 0.9129\n",
      "7800 0.9135\n",
      "8100 0.9137\n",
      "8400 0.9148\n",
      "8700 0.9151\n",
      "9000 0.9147\n",
      "9300 0.916\n",
      "9600 0.9161\n",
      "9900 0.9171\n",
      "10200 0.9165\n",
      "10500 0.9166\n",
      "10800 0.9179\n",
      "11100 0.9181\n",
      "11400 0.9167\n",
      "11700 0.9178\n",
      "12000 0.9189\n",
      "12300 0.9192\n",
      "12600 0.9189\n",
      "12900 0.9199\n",
      "13200 0.9196\n",
      "13500 0.9208\n",
      "13800 0.9208\n",
      "14100 0.9213\n",
      "14400 0.9208\n",
      "14700 0.921\n",
      "15000 0.9205\n",
      "15300 0.9218\n",
      "15600 0.9216\n",
      "15900 0.9226\n",
      "16200 0.923\n",
      "16500 0.9225\n",
      "16800 0.9232\n",
      "17100 0.9233\n",
      "17400 0.9229\n",
      "17700 0.9228\n",
      "18000 0.9229\n",
      "18300 0.923\n",
      "18600 0.9241\n",
      "18900 0.9233\n",
      "19200 0.9236\n",
      "19500 0.9234\n",
      "19800 0.9247\n",
      "20100 0.9237\n",
      "20400 0.9242\n",
      "20700 0.925\n",
      "21000 0.925\n",
      "21300 0.9252\n",
      "21600 0.9252\n",
      "21900 0.9246\n",
      "22200 0.9247\n",
      "22500 0.9259\n",
      "22800 0.9252\n",
      "23100 0.9261\n",
      "23400 0.9256\n",
      "23700 0.9246\n",
      "24000 0.9258\n",
      "24300 0.9261\n",
      "24600 0.9256\n",
      "24900 0.9255\n",
      "25200 0.9254\n",
      "25500 0.9258\n",
      "25800 0.9262\n",
      "26100 0.9261\n"
     ]
    }
   ],
   "source": [
    "with tf.Session() as sess:\n",
    "    \n",
    "    sess.run(tf.global_variables_initializer())\n",
    "    cost_hist = []\n",
    "    acc_hist = []\n",
    "    \n",
    "    \n",
    "    for step in range(learning_step):\n",
    "\n",
    "        batch_xs, batch_ys = next_batch(train, train_labels)\n",
    "\n",
    "        feed_dict = {X: batch_xs, y: batch_ys}\n",
    "        \n",
    "        acc, _ = sess.run((accuracy, optimizer), feed_dict=feed_dict)\n",
    "        cost_hist.append(acc)\n",
    "        \n",
    "        if (step % display_step) == 0:\n",
    "            \n",
    "            feed_dict = {X: test, y: test_labels}\n",
    "            \n",
    "            acc = sess.run(accuracy, feed_dict=feed_dict)\n",
    "            acc_hist.append(acc)\n",
    "            \n",
    "            print(step, acc)\n",
    "\n",
    "    print(\"best accuracy: %f\" % max(acc_hist))"
   ]
  },
  {
   "cell_type": "code",
   "execution_count": null,
   "metadata": {},
   "outputs": [],
   "source": [
    "plt.plot(train[0] * 255)"
   ]
  },
  {
   "cell_type": "code",
   "execution_count": null,
   "metadata": {},
   "outputs": [],
   "source": [
    "losses.cross_entropy = relu = best accuracy: 0.650200\n",
    "    selbst = sigmoid = best accuracy: 0.752000"
   ]
  },
  {
   "cell_type": "code",
   "execution_count": null,
   "metadata": {},
   "outputs": [],
   "source": []
  }
 ],
 "metadata": {
  "kernelspec": {
   "display_name": "Python 3",
   "language": "python",
   "name": "python3"
  },
  "language_info": {
   "codemirror_mode": {
    "name": "ipython",
    "version": 3
   },
   "file_extension": ".py",
   "mimetype": "text/x-python",
   "name": "python",
   "nbconvert_exporter": "python",
   "pygments_lexer": "ipython3",
   "version": "3.6.4"
  }
 },
 "nbformat": 4,
 "nbformat_minor": 2
}
