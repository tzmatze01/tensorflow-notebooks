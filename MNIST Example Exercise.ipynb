{
 "cells": [
  {
   "cell_type": "code",
   "execution_count": null,
   "metadata": {},
   "outputs": [],
   "source": [
    "import tensorflow as tf\n",
    "from tensorflow.examples.tutorials.mnist import input_data\n",
    "\n",
    "import random\n",
    "import matplotlib.pyplot as plt"
   ]
  },
  {
   "cell_type": "code",
   "execution_count": null,
   "metadata": {},
   "outputs": [],
   "source": [
    "# load dataset and split declare train and test data\n",
    "mnist = input_data.read_data_sets(\"MNIST_data/\", one_hot=True)\n",
    "\n",
    "train = mnist.train.images \n",
    "test = mnist.test.images \n",
    "\n",
    "train_labels = mnist.train.labels\n",
    "test_labels = mnist.test.labels\n",
    "\n",
    "print(\"num train images: \", train.shape)\n",
    "print(\"num test images: \", test.shape)\n",
    "\n",
    "print(\"shape of train labels: \", train_labels.shape)"
   ]
  },
  {
   "cell_type": "code",
   "execution_count": null,
   "metadata": {},
   "outputs": [],
   "source": [
    "# adjustable (hyper-)parameters\n",
    "batch_size = 100\n",
    "learning_rate = 0.0001 \n",
    "learning_step = 30000\n",
    "display_step= 300\n",
    "\n",
    "# size of dataset\n",
    "N = train.shape[0]\n",
    "dim = train.shape[1]\n",
    "dim_out = 10"
   ]
  },
  {
   "cell_type": "code",
   "execution_count": null,
   "metadata": {},
   "outputs": [],
   "source": [
    "# method to get a batch of data\n",
    "def next_batch(images, labels): \n",
    "    rand_indicies = random.sample(range(0, images.shape[0]), batch_size)\n",
    "    \n",
    "    return images[rand_indicies], labels[rand_indicies]"
   ]
  },
  {
   "cell_type": "code",
   "execution_count": null,
   "metadata": {},
   "outputs": [],
   "source": [
    "# placeholder / variables\n",
    "\n",
    "# TODO wirte the needed variables"
   ]
  },
  {
   "cell_type": "code",
   "execution_count": null,
   "metadata": {},
   "outputs": [],
   "source": [
    "# explicit network\n",
    "\n",
    "# TODO write a network with tf.Varaible"
   ]
  },
  {
   "cell_type": "code",
   "execution_count": null,
   "metadata": {},
   "outputs": [],
   "source": [
    "# dense network\n",
    "#     -> inputs, units, initializer, activation\n",
    "#     -> https://www.tensorflow.org/api_docs/python/tf/layers/dense\n",
    "\n",
    "def network(x): \n",
    "   \n",
    "    # TODO write a network with tf.layers.dense"
   ]
  },
  {
   "cell_type": "code",
   "execution_count": null,
   "metadata": {},
   "outputs": [],
   "source": [
    "# TODO 'run' network\n",
    "\n",
    "# TODO write the cost function \n",
    "cost = None\n",
    "accuracy = tf.reduce_mean(tf.cast(cost, tf.float32))\n",
    "\n",
    "# TODO apply gradients\n",
    "optimizer = None"
   ]
  },
  {
   "cell_type": "code",
   "execution_count": null,
   "metadata": {},
   "outputs": [],
   "source": [
    "with tf.Session() as sess:\n",
    "    \n",
    "    sess.run(tf.global_variables_initializer())\n",
    "    cost_hist = []\n",
    "    acc_hist = []\n",
    "    \n",
    "    \n",
    "    for step in range(learning_step):\n",
    "\n",
    "        batch_xs, batch_ys = next_batch(train, train_labels)\n",
    "\n",
    "        # TODO create dictionary to train network \n",
    "        feed_dict = None\n",
    "    \n",
    "        # TODO run session to train network\n",
    "        acc, _ = None\n",
    "        \n",
    "        cost_hist.append(acc)\n",
    "        \n",
    "        if (step % display_step) == 0:\n",
    "            \n",
    "            # TODO create dictionary to test network\n",
    "            feed_dict = None\n",
    "            \n",
    "            # TODO run session to test network accuracy\n",
    "            acc = None\n",
    "            acc_hist.append(acc)\n",
    "            \n",
    "            print(step, acc)\n",
    "\n",
    "    print(\"best accuracy: %f\" % max(acc_hist))"
   ]
  },
  {
   "cell_type": "code",
   "execution_count": null,
   "metadata": {},
   "outputs": [],
   "source": [
    "plt.plot(cost_hist)"
   ]
  }
 ],
 "metadata": {
  "kernelspec": {
   "display_name": "Python 3",
   "language": "python",
   "name": "python3"
  },
  "language_info": {
   "codemirror_mode": {
    "name": "ipython",
    "version": 3
   },
   "file_extension": ".py",
   "mimetype": "text/x-python",
   "name": "python",
   "nbconvert_exporter": "python",
   "pygments_lexer": "ipython3",
   "version": "3.6.4"
  }
 },
 "nbformat": 4,
 "nbformat_minor": 2
}
